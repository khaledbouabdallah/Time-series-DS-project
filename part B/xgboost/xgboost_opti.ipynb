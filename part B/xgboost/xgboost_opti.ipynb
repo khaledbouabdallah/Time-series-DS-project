{
 "cells": [
  {
   "cell_type": "code",
   "execution_count": 1,
   "metadata": {},
   "outputs": [],
   "source": [
    "#!pip install pandas\n",
    "#!pip install xgboost\n",
    "#!pip install -U scikit-learn\n",
    "#!pip install cupy-cuda12x"
   ]
  },
  {
   "cell_type": "code",
   "execution_count": 6,
   "metadata": {},
   "outputs": [
    {
     "data": {
      "text/html": [
       "<div>\n",
       "<style scoped>\n",
       "    .dataframe tbody tr th:only-of-type {\n",
       "        vertical-align: middle;\n",
       "    }\n",
       "\n",
       "    .dataframe tbody tr th {\n",
       "        vertical-align: top;\n",
       "    }\n",
       "\n",
       "    .dataframe thead th {\n",
       "        text-align: right;\n",
       "    }\n",
       "</style>\n",
       "<table border=\"1\" class=\"dataframe\">\n",
       "  <thead>\n",
       "    <tr style=\"text-align: right;\">\n",
       "      <th></th>\n",
       "      <th>0</th>\n",
       "      <th>1</th>\n",
       "      <th>2</th>\n",
       "      <th>3</th>\n",
       "      <th>4</th>\n",
       "      <th>5</th>\n",
       "      <th>6</th>\n",
       "      <th>OT</th>\n",
       "    </tr>\n",
       "    <tr>\n",
       "      <th>date</th>\n",
       "      <th></th>\n",
       "      <th></th>\n",
       "      <th></th>\n",
       "      <th></th>\n",
       "      <th></th>\n",
       "      <th></th>\n",
       "      <th></th>\n",
       "      <th></th>\n",
       "    </tr>\n",
       "  </thead>\n",
       "  <tbody>\n",
       "    <tr>\n",
       "      <th>1990-01-01</th>\n",
       "      <td>0.7855</td>\n",
       "      <td>1.6110</td>\n",
       "      <td>0.861698</td>\n",
       "      <td>0.634196</td>\n",
       "      <td>0.211242</td>\n",
       "      <td>0.006838</td>\n",
       "      <td>0.525486</td>\n",
       "      <td>0.595</td>\n",
       "    </tr>\n",
       "    <tr>\n",
       "      <th>1990-01-02</th>\n",
       "      <td>0.7818</td>\n",
       "      <td>1.6100</td>\n",
       "      <td>0.861104</td>\n",
       "      <td>0.633513</td>\n",
       "      <td>0.211242</td>\n",
       "      <td>0.006863</td>\n",
       "      <td>0.523972</td>\n",
       "      <td>0.595</td>\n",
       "    </tr>\n",
       "    <tr>\n",
       "      <th>1990-01-03</th>\n",
       "      <td>0.7867</td>\n",
       "      <td>1.6293</td>\n",
       "      <td>0.861030</td>\n",
       "      <td>0.648508</td>\n",
       "      <td>0.211242</td>\n",
       "      <td>0.006975</td>\n",
       "      <td>0.526316</td>\n",
       "      <td>0.595</td>\n",
       "    </tr>\n",
       "  </tbody>\n",
       "</table>\n",
       "</div>"
      ],
      "text/plain": [
       "                 0       1         2         3         4         5         6  \\\n",
       "date                                                                           \n",
       "1990-01-01  0.7855  1.6110  0.861698  0.634196  0.211242  0.006838  0.525486   \n",
       "1990-01-02  0.7818  1.6100  0.861104  0.633513  0.211242  0.006863  0.523972   \n",
       "1990-01-03  0.7867  1.6293  0.861030  0.648508  0.211242  0.006975  0.526316   \n",
       "\n",
       "               OT  \n",
       "date               \n",
       "1990-01-01  0.595  \n",
       "1990-01-02  0.595  \n",
       "1990-01-03  0.595  "
      ]
     },
     "execution_count": 6,
     "metadata": {},
     "output_type": "execute_result"
    }
   ],
   "source": [
    "import pandas as pd \n",
    "import numpy as np\n",
    "import cupy as cp\n",
    "\n",
    "from xgboost import XGBRegressor\n",
    "from sklearn.metrics import mean_absolute_error\n",
    "from sklearn.model_selection import cross_validate\n",
    "from sklearn.preprocessing import StandardScaler\n",
    "from utils import *\n",
    "\n",
    "# optimization\n",
    "import optuna\n",
    "\n",
    "from warnings import simplefilter\n",
    "simplefilter(action=\"ignore\", category=pd.errors.PerformanceWarning)\n",
    "\n",
    "\n",
    "df = pd.read_csv('../data/exchange_rate_imputed.csv')\n",
    "df['date'] = pd.to_datetime(df['date'])\n",
    "df.set_index('date', inplace=True)\n",
    "columns = df.columns.tolist()\n",
    "\n",
    "target = '6'\n",
    "target_mean = df[target].mean()\n",
    "target_std = df[target].std()\n",
    "\n",
    "df.head(3)"
   ]
  },
  {
   "cell_type": "code",
   "execution_count": null,
   "metadata": {},
   "outputs": [],
   "source": [
    "def print_trial_info(study, trial):\n",
    "    print(f\"Trial {trial.number}: Value = {trial.value}\")\n",
    "\n",
    "pruner = optuna.pruners.SuccessiveHalvingPruner()\n",
    "study = optuna.create_study(direction='minimize', pruner=pruner)\n",
    "study.optimize(objective, n_trials=2, callbacks=[print_trial_info])"
   ]
  },
  {
   "cell_type": "code",
   "execution_count": null,
   "metadata": {},
   "outputs": [],
   "source": [
    "x_forecaste = create_lags(df_norm, lags=lag-1).iloc[-1]\n",
    "x_forecaste = x_forecaste.to_numpy()\n",
    "x_forecaste = np.expand_dims(x_forecaste, axis=0)\n",
    "\n",
    "y_forecast = regressor.predict(x_forecaste)\n",
    "y_forecast = [(x * np.sqrt(normlizer.var_[6])) + normlizer.mean_[6] for x in y_forecast]\n",
    "y_forecast = np.array(y_forecast).flatten()\n",
    "\n",
    "x_forecaste.shape,y_forecast.shape"
   ]
  },
  {
   "cell_type": "markdown",
   "metadata": {},
   "source": [
    "## save prediction"
   ]
  },
  {
   "cell_type": "code",
   "execution_count": 26,
   "metadata": {},
   "outputs": [],
   "source": [
    "submission = pd.DataFrame(y_forecast, columns=['Prediction'])\n",
    "submission['Id'] = range(100)\n",
    "submission = submission[['Id', 'Prediction']]\n",
    "submission.to_csv('submission.csv', index=False)"
   ]
  },
  {
   "cell_type": "code",
   "execution_count": 16,
   "metadata": {},
   "outputs": [
    {
     "name": "stdout",
     "output_type": "stream",
     "text": [
      "Warning: Looks like you're using an outdated API Version, please consider updating (server 1.6.11 / client 1.6.6)\n",
      "Successfully submitted to Time Series Classification: Part 2\n"
     ]
    },
    {
     "name": "stderr",
     "output_type": "stream",
     "text": [
      "\n",
      "  0%|          | 0.00/1.40k [00:00<?, ?B/s]\n",
      "100%|██████████| 1.40k/1.40k [00:00<00:00, 2.72kB/s]\n"
     ]
    }
   ],
   "source": [
    "!kaggle competitions submit -c time-series-classification-part-2new -f submission.csv -m \"XGBoost with 2 lags untuned\""
   ]
  },
  {
   "cell_type": "code",
   "execution_count": null,
   "metadata": {},
   "outputs": [],
   "source": []
  }
 ],
 "metadata": {
  "kernelspec": {
   "display_name": "Python 3 (ipykernel)",
   "language": "python",
   "name": "python3"
  },
  "language_info": {
   "codemirror_mode": {
    "name": "ipython",
    "version": 3
   },
   "file_extension": ".py",
   "mimetype": "text/x-python",
   "name": "python",
   "nbconvert_exporter": "python",
   "pygments_lexer": "ipython3",
   "version": "3.9.0"
  }
 },
 "nbformat": 4,
 "nbformat_minor": 4
}
