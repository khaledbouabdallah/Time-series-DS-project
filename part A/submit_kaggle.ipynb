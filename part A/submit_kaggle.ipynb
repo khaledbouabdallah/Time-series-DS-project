{
 "cells": [
  {
   "cell_type": "markdown",
   "metadata": {},
   "source": [
    "## Auto Submit\n",
    "\n",
    "submitting 100 results isn't fun, so lets let the computer do it for us: \n",
    "\n"
   ]
  },
  {
   "cell_type": "code",
   "execution_count": 1,
   "metadata": {},
   "outputs": [],
   "source": [
    "import pandas as pd"
   ]
  },
  {
   "cell_type": "code",
   "execution_count": 2,
   "metadata": {},
   "outputs": [],
   "source": [
    "predictions = pd.read_csv('predictions_all.csv') # this file store predictions of all models\n",
    "predictions = predictions.drop('Unnamed: 0', axis=1) \n",
    "models = pd.read_csv('results_val.csv') # this file store hyperparameters and model names"
   ]
  },
  {
   "cell_type": "code",
   "execution_count": 3,
   "metadata": {},
   "outputs": [],
   "source": [
    "# function to generate metadata text about the prediction (for kaggle submission) \n",
    "def print_model(model):\n",
    "    text = \"\"\n",
    "    text = text + \"Model: XGboost\" + \"\\n\"\n",
    "    text = text + \"Lags: \" + str(model['lags']) + \"\\n\"\n",
    "    text = text + \"n_estimators: \" + str(model['n_estimators']) + \"\\n\"\n",
    "    text = text + \"max_depth: \" + str(model['max_depth']) + \"\\n\"\n",
    "    text = text + \"learning_rate: \" + str(model['learning_rate']) + \"\\n\"\n",
    "    text = text + \"reg_alpha: \" + str(model['reg_alpha']) + \"\\n\"\n",
    "    text = text + \"reg_lambda: \" + str(model['reg_lambda']) + \"\\n\"\n",
    "    return text\n"
   ]
  },
  {
   "cell_type": "code",
   "execution_count": 4,
   "metadata": {},
   "outputs": [
    {
     "name": "stdout",
     "output_type": "stream",
     "text": [
      "submitting model:  0\n"
     ]
    },
    {
     "name": "stderr",
     "output_type": "stream",
     "text": [
      "\n",
      "  0%|          | 0.00/2.14k [00:00<?, ?B/s]\n",
      "100%|██████████| 2.14k/2.14k [00:00<00:00, 2.80kB/s]\n"
     ]
    },
    {
     "name": "stdout",
     "output_type": "stream",
     "text": [
      "Warning: Looks like you're using an outdated API Version, please consider updating (server 1.6.7 / client 1.6.6)\n",
      "Successfully submitted to Time Series Classification: Part 1\n",
      "submitting model:  1\n"
     ]
    },
    {
     "name": "stderr",
     "output_type": "stream",
     "text": [
      "\n",
      "  0%|          | 0.00/2.14k [00:00<?, ?B/s]\n",
      "100%|██████████| 2.14k/2.14k [00:00<00:00, 4.44kB/s]\n"
     ]
    },
    {
     "name": "stdout",
     "output_type": "stream",
     "text": [
      "Warning: Looks like you're using an outdated API Version, please consider updating (server 1.6.7 / client 1.6.6)\n",
      "Successfully submitted to Time Series Classification: Part 1\n",
      "submitting model:  2\n"
     ]
    },
    {
     "name": "stderr",
     "output_type": "stream",
     "text": [
      "\n",
      "  0%|          | 0.00/2.14k [00:00<?, ?B/s]\n",
      "100%|██████████| 2.14k/2.14k [00:00<00:00, 4.02kB/s]\n"
     ]
    },
    {
     "name": "stdout",
     "output_type": "stream",
     "text": [
      "Warning: Looks like you're using an outdated API Version, please consider updating (server 1.6.7 / client 1.6.6)\n",
      "Successfully submitted to Time Series Classification: Part 1\n",
      "submitting model:  3\n"
     ]
    },
    {
     "name": "stderr",
     "output_type": "stream",
     "text": [
      "\n",
      "  0%|          | 0.00/2.14k [00:00<?, ?B/s]\n",
      "100%|██████████| 2.14k/2.14k [00:00<00:00, 3.94kB/s]\n"
     ]
    },
    {
     "name": "stdout",
     "output_type": "stream",
     "text": [
      "Warning: Looks like you're using an outdated API Version, please consider updating (server 1.6.7 / client 1.6.6)\n",
      "Successfully submitted to Time Series Classification: Part 1\n",
      "submitting model:  4\n",
      "Warning: Looks like you're using an outdated API Version, please consider updating (server 1.6.7 / client 1.6.6)\n",
      "Successfully submitted to Time Series Classification: Part 1\n"
     ]
    },
    {
     "name": "stderr",
     "output_type": "stream",
     "text": [
      "\n",
      "  0%|          | 0.00/2.13k [00:00<?, ?B/s]\n",
      "100%|██████████| 2.13k/2.13k [00:00<00:00, 3.77kB/s]\n"
     ]
    },
    {
     "name": "stdout",
     "output_type": "stream",
     "text": [
      "submitting model:  5\n",
      "Warning: Looks like you're using an outdated API Version, please consider updating (server 1.6.7 / client 1.6.6)\n",
      "Successfully submitted to Time Series Classification: Part 1\n"
     ]
    },
    {
     "name": "stderr",
     "output_type": "stream",
     "text": [
      "\n",
      "  0%|          | 0.00/2.13k [00:00<?, ?B/s]\n",
      "100%|██████████| 2.13k/2.13k [00:00<00:00, 4.16kB/s]\n"
     ]
    },
    {
     "name": "stdout",
     "output_type": "stream",
     "text": [
      "submitting model:  6\n",
      "Warning: Looks like you're using an outdated API Version, please consider updating (server 1.6.7 / client 1.6.6)\n",
      "Successfully submitted to Time Series Classification: Part 1\n"
     ]
    },
    {
     "name": "stderr",
     "output_type": "stream",
     "text": [
      "\n",
      "  0%|          | 0.00/2.15k [00:00<?, ?B/s]\n",
      "100%|██████████| 2.15k/2.15k [00:00<00:00, 4.91kB/s]\n"
     ]
    },
    {
     "name": "stdout",
     "output_type": "stream",
     "text": [
      "submitting model:  7\n",
      "Warning: Looks like you're using an outdated API Version, please consider updating (server 1.6.7 / client 1.6.6)\n",
      "Successfully submitted to Time Series Classification: Part 1\n"
     ]
    },
    {
     "name": "stderr",
     "output_type": "stream",
     "text": [
      "\n",
      "  0%|          | 0.00/2.13k [00:00<?, ?B/s]\n",
      "100%|██████████| 2.13k/2.13k [00:00<00:00, 3.43kB/s]\n"
     ]
    },
    {
     "name": "stdout",
     "output_type": "stream",
     "text": [
      "submitting model:  8\n"
     ]
    },
    {
     "name": "stderr",
     "output_type": "stream",
     "text": [
      "\n",
      "  0%|          | 0.00/2.14k [00:00<?, ?B/s]\n",
      "100%|██████████| 2.14k/2.14k [00:00<00:00, 4.08kB/s]\n"
     ]
    },
    {
     "name": "stdout",
     "output_type": "stream",
     "text": [
      "Warning: Looks like you're using an outdated API Version, please consider updating (server 1.6.7 / client 1.6.6)\n",
      "Successfully submitted to Time Series Classification: Part 1\n",
      "submitting model:  9\n"
     ]
    },
    {
     "name": "stderr",
     "output_type": "stream",
     "text": [
      "\n",
      "  0%|          | 0.00/2.14k [00:00<?, ?B/s]\n",
      "100%|██████████| 2.14k/2.14k [00:00<00:00, 4.36kB/s]\n"
     ]
    },
    {
     "name": "stdout",
     "output_type": "stream",
     "text": [
      "Warning: Looks like you're using an outdated API Version, please consider updating (server 1.6.7 / client 1.6.6)\n",
      "Successfully submitted to Time Series Classification: Part 1\n",
      "submitting model:  10\n",
      "Warning: Looks like you're using an outdated API Version, please consider updating (server 1.6.7 / client 1.6.6)\n",
      "Successfully submitted to Time Series Classification: Part 1\n"
     ]
    },
    {
     "name": "stderr",
     "output_type": "stream",
     "text": [
      "\n",
      "  0%|          | 0.00/2.14k [00:00<?, ?B/s]\n",
      "100%|██████████| 2.14k/2.14k [00:00<00:00, 3.80kB/s]\n"
     ]
    },
    {
     "name": "stdout",
     "output_type": "stream",
     "text": [
      "submitting model:  11\n",
      "Warning: Looks like you're using an outdated API Version, please consider updating (server 1.6.7 / client 1.6.6)\n",
      "Successfully submitted to Time Series Classification: Part 1\n"
     ]
    },
    {
     "name": "stderr",
     "output_type": "stream",
     "text": [
      "\n",
      "  0%|          | 0.00/2.14k [00:00<?, ?B/s]\n",
      "100%|██████████| 2.14k/2.14k [00:00<00:00, 3.90kB/s]\n"
     ]
    },
    {
     "name": "stdout",
     "output_type": "stream",
     "text": [
      "submitting model:  12\n"
     ]
    },
    {
     "name": "stderr",
     "output_type": "stream",
     "text": [
      "\n",
      "  0%|          | 0.00/2.14k [00:00<?, ?B/s]\n",
      "100%|██████████| 2.14k/2.14k [00:00<00:00, 3.98kB/s]\n"
     ]
    },
    {
     "name": "stdout",
     "output_type": "stream",
     "text": [
      "Warning: Looks like you're using an outdated API Version, please consider updating (server 1.6.7 / client 1.6.6)\n",
      "Successfully submitted to Time Series Classification: Part 1\n",
      "submitting model:  13\n"
     ]
    },
    {
     "name": "stderr",
     "output_type": "stream",
     "text": [
      "\n",
      "  0%|          | 0.00/2.14k [00:00<?, ?B/s]\n",
      "100%|██████████| 2.14k/2.14k [00:00<00:00, 3.58kB/s]\n"
     ]
    },
    {
     "name": "stdout",
     "output_type": "stream",
     "text": [
      "Warning: Looks like you're using an outdated API Version, please consider updating (server 1.6.7 / client 1.6.6)\n",
      "Successfully submitted to Time Series Classification: Part 1\n",
      "submitting model:  14\n"
     ]
    },
    {
     "name": "stderr",
     "output_type": "stream",
     "text": [
      "\n",
      "  0%|          | 0.00/2.14k [00:00<?, ?B/s]\n",
      "100%|██████████| 2.14k/2.14k [00:00<00:00, 3.92kB/s]\n"
     ]
    },
    {
     "name": "stdout",
     "output_type": "stream",
     "text": [
      "Warning: Looks like you're using an outdated API Version, please consider updating (server 1.6.7 / client 1.6.6)\n",
      "Successfully submitted to Time Series Classification: Part 1\n",
      "submitting model:  15\n",
      "Warning: Looks like you're using an outdated API Version, please consider updating (server 1.6.7 / client 1.6.6)\n",
      "Successfully submitted to Time Series Classification: Part 1\n"
     ]
    },
    {
     "name": "stderr",
     "output_type": "stream",
     "text": [
      "\n",
      "  0%|          | 0.00/2.14k [00:00<?, ?B/s]\n",
      "100%|██████████| 2.14k/2.14k [00:00<00:00, 3.97kB/s]\n"
     ]
    },
    {
     "name": "stdout",
     "output_type": "stream",
     "text": [
      "submitting model:  16\n",
      "Warning: Looks like you're using an outdated API Version, please consider updating (server 1.6.7 / client 1.6.6)\n",
      "Successfully submitted to Time Series Classification: Part 1\n"
     ]
    },
    {
     "name": "stderr",
     "output_type": "stream",
     "text": [
      "\n",
      "  0%|          | 0.00/2.13k [00:00<?, ?B/s]\n",
      "100%|██████████| 2.13k/2.13k [00:00<00:00, 4.16kB/s]\n"
     ]
    },
    {
     "name": "stdout",
     "output_type": "stream",
     "text": [
      "submitting model:  17\n"
     ]
    },
    {
     "name": "stderr",
     "output_type": "stream",
     "text": [
      "\n",
      "  0%|          | 0.00/2.14k [00:00<?, ?B/s]\n",
      "100%|██████████| 2.14k/2.14k [00:00<00:00, 3.91kB/s]\n"
     ]
    },
    {
     "name": "stdout",
     "output_type": "stream",
     "text": [
      "Warning: Looks like you're using an outdated API Version, please consider updating (server 1.6.7 / client 1.6.6)\n",
      "Successfully submitted to Time Series Classification: Part 1\n",
      "submitting model:  18\n"
     ]
    },
    {
     "name": "stderr",
     "output_type": "stream",
     "text": [
      "\n",
      "  0%|          | 0.00/2.14k [00:00<?, ?B/s]\n",
      "100%|██████████| 2.14k/2.14k [00:00<00:00, 3.66kB/s]\n"
     ]
    },
    {
     "name": "stdout",
     "output_type": "stream",
     "text": [
      "Warning: Looks like you're using an outdated API Version, please consider updating (server 1.6.7 / client 1.6.6)\n",
      "Successfully submitted to Time Series Classification: Part 1\n",
      "submitting model:  19\n"
     ]
    },
    {
     "name": "stderr",
     "output_type": "stream",
     "text": [
      "\n",
      "  0%|          | 0.00/2.13k [00:00<?, ?B/s]\n",
      "100%|██████████| 2.13k/2.13k [00:00<00:00, 3.80kB/s]\n"
     ]
    },
    {
     "name": "stdout",
     "output_type": "stream",
     "text": [
      "Warning: Looks like you're using an outdated API Version, please consider updating (server 1.6.7 / client 1.6.6)\n",
      "Successfully submitted to Time Series Classification: Part 1\n",
      "submitting model:  20\n",
      "Warning: Looks like you're using an outdated API Version, please consider updating (server 1.6.7 / client 1.6.6)\n",
      "Successfully submitted to Time Series Classification: Part 1\n"
     ]
    },
    {
     "name": "stderr",
     "output_type": "stream",
     "text": [
      "\n",
      "  0%|          | 0.00/2.17k [00:00<?, ?B/s]\n",
      "100%|██████████| 2.17k/2.17k [00:00<00:00, 3.88kB/s]\n"
     ]
    },
    {
     "name": "stdout",
     "output_type": "stream",
     "text": [
      "submitting model:  21\n"
     ]
    },
    {
     "name": "stderr",
     "output_type": "stream",
     "text": [
      "\n",
      "  0%|          | 0.00/2.14k [00:00<?, ?B/s]\n",
      "100%|██████████| 2.14k/2.14k [00:00<00:00, 3.31kB/s]\n"
     ]
    },
    {
     "name": "stdout",
     "output_type": "stream",
     "text": [
      "Warning: Looks like you're using an outdated API Version, please consider updating (server 1.6.7 / client 1.6.6)\n",
      "Successfully submitted to Time Series Classification: Part 1\n",
      "submitting model:  22\n"
     ]
    },
    {
     "name": "stderr",
     "output_type": "stream",
     "text": [
      "\n",
      "  0%|          | 0.00/2.13k [00:00<?, ?B/s]\n",
      "100%|██████████| 2.13k/2.13k [00:00<00:00, 3.63kB/s]\n"
     ]
    },
    {
     "name": "stdout",
     "output_type": "stream",
     "text": [
      "Warning: Looks like you're using an outdated API Version, please consider updating (server 1.6.7 / client 1.6.6)\n",
      "Successfully submitted to Time Series Classification: Part 1\n",
      "submitting model:  23\n"
     ]
    },
    {
     "name": "stderr",
     "output_type": "stream",
     "text": [
      "\n",
      "  0%|          | 0.00/2.14k [00:00<?, ?B/s]\n",
      "100%|██████████| 2.14k/2.14k [00:00<00:00, 3.79kB/s]\n"
     ]
    },
    {
     "name": "stdout",
     "output_type": "stream",
     "text": [
      "Warning: Looks like you're using an outdated API Version, please consider updating (server 1.6.7 / client 1.6.6)\n",
      "Successfully submitted to Time Series Classification: Part 1\n",
      "submitting model:  24\n"
     ]
    },
    {
     "name": "stderr",
     "output_type": "stream",
     "text": [
      "\n",
      "  0%|          | 0.00/2.14k [00:00<?, ?B/s]\n",
      "100%|██████████| 2.14k/2.14k [00:00<00:00, 3.97kB/s]\n"
     ]
    },
    {
     "name": "stdout",
     "output_type": "stream",
     "text": [
      "Warning: Looks like you're using an outdated API Version, please consider updating (server 1.6.7 / client 1.6.6)\n",
      "Successfully submitted to Time Series Classification: Part 1\n",
      "submitting model:  25\n"
     ]
    },
    {
     "name": "stderr",
     "output_type": "stream",
     "text": [
      "\n",
      "  0%|          | 0.00/2.14k [00:00<?, ?B/s]\n",
      "100%|██████████| 2.14k/2.14k [00:00<00:00, 3.07kB/s]\n"
     ]
    },
    {
     "name": "stdout",
     "output_type": "stream",
     "text": [
      "Warning: Looks like you're using an outdated API Version, please consider updating (server 1.6.7 / client 1.6.6)\n",
      "Successfully submitted to Time Series Classification: Part 1\n",
      "submitting model:  26\n"
     ]
    },
    {
     "name": "stderr",
     "output_type": "stream",
     "text": [
      "\n",
      "  0%|          | 0.00/2.13k [00:00<?, ?B/s]\n",
      "100%|██████████| 2.13k/2.13k [00:00<00:00, 3.64kB/s]\n"
     ]
    },
    {
     "name": "stdout",
     "output_type": "stream",
     "text": [
      "Warning: Looks like you're using an outdated API Version, please consider updating (server 1.6.7 / client 1.6.6)\n",
      "Successfully submitted to Time Series Classification: Part 1\n",
      "submitting model:  27\n"
     ]
    },
    {
     "name": "stderr",
     "output_type": "stream",
     "text": [
      "\n",
      "  0%|          | 0.00/2.13k [00:00<?, ?B/s]\n",
      "100%|██████████| 2.13k/2.13k [00:00<00:00, 4.02kB/s]\n"
     ]
    },
    {
     "name": "stdout",
     "output_type": "stream",
     "text": [
      "Warning: Looks like you're using an outdated API Version, please consider updating (server 1.6.7 / client 1.6.6)\n",
      "Successfully submitted to Time Series Classification: Part 1\n",
      "submitting model:  28\n",
      "Warning: Looks like you're using an outdated API Version, please consider updating (server 1.6.7 / client 1.6.6)\n",
      "Successfully submitted to Time Series Classification: Part 1\n"
     ]
    },
    {
     "name": "stderr",
     "output_type": "stream",
     "text": [
      "\n",
      "  0%|          | 0.00/2.14k [00:00<?, ?B/s]\n",
      "100%|██████████| 2.14k/2.14k [00:00<00:00, 3.80kB/s]\n"
     ]
    },
    {
     "ename": "KeyboardInterrupt",
     "evalue": "",
     "output_type": "error",
     "traceback": [
      "\u001b[1;31m---------------------------------------------------------------------------\u001b[0m",
      "\u001b[1;31mKeyboardInterrupt\u001b[0m                         Traceback (most recent call last)",
      "Cell \u001b[1;32mIn[4], line 11\u001b[0m\n\u001b[0;32m      9\u001b[0m text \u001b[38;5;241m=\u001b[39m print_model(models\u001b[38;5;241m.\u001b[39miloc[i])\n\u001b[0;32m     10\u001b[0m get_ipython()\u001b[38;5;241m.\u001b[39msystem(\u001b[38;5;124m'\u001b[39m\u001b[38;5;124mkaggle competitions submit time-series-classification-part-1 -f submission_\u001b[39m\u001b[38;5;132;01m{i}\u001b[39;00m\u001b[38;5;124m.csv -m f\u001b[39m\u001b[38;5;124m\"\u001b[39m\u001b[38;5;132;01m{text}\u001b[39;00m\u001b[38;5;124m\"\u001b[39m\u001b[38;5;124m'\u001b[39m)\n\u001b[1;32m---> 11\u001b[0m \u001b[43mtime\u001b[49m\u001b[38;5;241;43m.\u001b[39;49m\u001b[43msleep\u001b[49m\u001b[43m(\u001b[49m\u001b[38;5;241;43m5\u001b[39;49m\u001b[43m)\u001b[49m \u001b[38;5;66;03m# being gentle with the API\u001b[39;00m\n",
      "\u001b[1;31mKeyboardInterrupt\u001b[0m: "
     ]
    }
   ],
   "source": [
    "import time\n",
    "for i,column in enumerate(predictions.columns):\n",
    "    print(\"submitting model: \", i)\n",
    "    df = pd.DataFrame(predictions[column])\n",
    "    df[\"Id\"] = range(100)\n",
    "    df = df[['Id', column]]\n",
    "    df.rename(columns={column: 'OT'}, inplace=True)\n",
    "    df.to_csv(f'submission_{i}.csv', index=False)\n",
    "    text = print_model(models.iloc[i])\n",
    "    !kaggle competitions submit time-series-classification-part-1 -f submission_{i}.csv -m f\"{text}\"\n",
    "    time.sleep(5) # being gentle with the API\n",
    "        "
   ]
  },
  {
   "cell_type": "markdown",
   "metadata": {},
   "source": [
    "The bad news is that Kaggel does not like us spamming him so we have only submitted 50. The good news is that we have archived a new best mea __0.509!__"
   ]
  },
  {
   "cell_type": "markdown",
   "metadata": {},
   "source": [
    "#### Of course, as stated before. Giving all the missing data that we lack about the transformers. it is pretty hard to have a model that capture and forecast short duration accurratly. I think that the \"best\" model that tries to predict the future in a reasonable is actually the one that scored the best for validation, just like the for the baselines example."
   ]
  },
  {
   "cell_type": "markdown",
   "metadata": {},
   "source": [
    "#### Still, Most people who scores below 1 mea are just overfiting the test set just like us. But we managed to overfit it better :V"
   ]
  },
  {
   "cell_type": "markdown",
   "metadata": {},
   "source": [
    "<iframe src=\"https://giphy.com/embed/uudzUtVcsLAoo\" width=\"480\" height=\"395\" frameBorder=\"0\" class=\"giphy-embed\" allowFullScreen></iframe><p><a href=\"https://giphy.com/gifs/golf-success-tiger-woods-uudzUtVcsLAoo\">via GIPHY</a></p>"
   ]
  },
  {
   "cell_type": "markdown",
   "metadata": {},
   "source": [
    "## Best model metadata\n",
    "\n",
    "- Name: XGboost\n",
    "- prediction name in kaggle: __submission_3.csv__ \n",
    "- number of row (sorted by mae in validation) in results table: __3__ (fourth best model in validation out of 100)\n",
    "- index in results table: __39__\n",
    "- Kaggle Score: __0.509__\n",
    "- validation Score: __2.362934__ \n",
    "\n",
    "## Hyperparameter\n",
    "\n",
    "- Lags = __2880 (24 x 30 x 4)__\n",
    "- N_estimators = __400__\n",
    "- Max_depth = __6__\n",
    "- learning_rate\t= __0.052341__\n",
    "- reg_alpha\t= __0.2__\n",
    "- reg_lambda = __0.2__\n",
    "\n",
    "\n",
    "## Extra parameter\n",
    "- random_state = __123__ (for reproductivity)\n",
    "\n",
    "\n"
   ]
  },
  {
   "cell_type": "markdown",
   "metadata": {},
   "source": []
  }
 ],
 "metadata": {
  "kernelspec": {
   "display_name": ".venv",
   "language": "python",
   "name": "python3"
  },
  "language_info": {
   "codemirror_mode": {
    "name": "ipython",
    "version": 3
   },
   "file_extension": ".py",
   "mimetype": "text/x-python",
   "name": "python",
   "nbconvert_exporter": "python",
   "pygments_lexer": "ipython3",
   "version": "3.9.0"
  }
 },
 "nbformat": 4,
 "nbformat_minor": 2
}
