{
 "cells": [
  {
   "cell_type": "markdown",
   "metadata": {},
   "source": [
    "## pytorch need to be installed"
   ]
  },
  {
   "cell_type": "code",
   "execution_count": null,
   "metadata": {},
   "outputs": [],
   "source": [
    "import pandas as pd \n",
    "from xgboost import XGBRegressor\n",
    "from skforecast.ForecasterAutoreg import ForecasterAutoreg\n",
    "import matplotlib.pyplot as plt\n",
    "\n",
    "from TCN.utils import *\n",
    "import copy\n",
    "import numpy as np\n",
    "import pandas as pd\n",
    "\n",
    "import torch\n",
    "from torch import nn\n",
    "from pytorch_lightning.callbacks.early_stopping import EarlyStopping\n",
    "from torch.optim.lr_scheduler import ReduceLROnPlateau\n",
    "from torchmetrics.regression import MeanAbsoluteError\n",
    "from sklearn.preprocessing import StandardScaler\n",
    "\n",
    "import optuna\n",
    "from sklearn.metrics import mean_absolute_error\n",
    "from sklearn.preprocessing import StandardScaler\n",
    "\n",
    "import matplotlib.pyplot as plt\n",
    "\n",
    "from darts import TimeSeries\n",
    "from darts.models import TCNModel\n",
    "from darts.dataprocessing.transformers import Scaler"
   ]
  },
  {
   "cell_type": "code",
   "execution_count": null,
   "metadata": {},
   "outputs": [],
   "source": [
    "torch.set_float32_matmul_precision('high')\n",
    "random_seed = 42\n",
    "n_epochs = 150\n",
    "BATCH_SIZE = 1024 # change this if needed\n",
    "learning_rate = 0.03\n",
    "torch.cuda.manual_seed(random_seed)\n",
    "torch.manual_seed(random_seed)\n",
    "np.random.seed(random_seed)\n",
    "torch.backends.cudnn.deterministic = True\n",
    "\n",
    "scaler = StandardScaler()\n",
    "transformer = Scaler(scaler)\n",
    "df = pd.read_csv(\"data/exchange_rate_imputed.csv\")\n",
    "df['date'] = pd.to_datetime(df['date'])\n",
    "columns = ['0', '1', '2', '3', '4', '5', '6', 'OT']\n",
    "\n",
    "\n",
    "train = TimeSeries.from_dataframe(df.iloc[:-700], \"date\", ['0', '1', '2', '3', '4', '5', '6', 'OT'])\n",
    "val = TimeSeries.from_dataframe(df.iloc[-700:], \"date\", ['0', '1', '2', '3', '4', '5', '6', 'OT'])\n",
    "to_forecast = TimeSeries.from_dataframe(df.iloc[-700:], \"date\", ['0', '1', '2', '3', '4', '5', '6', 'OT'])\n",
    "\n",
    "transformer.fit(train)\n",
    "train = transformer.transform(train)\n",
    "val = transformer.transform(val)\n",
    "to_forecast = transformer.transform(to_forecast)\n",
    "\n",
    "y_true = df.iloc[-100:]['6'].values\n",
    "y_var = transformer._fitted_params[0].var_[6]\n",
    "y_mean =  transformer._fitted_params[0].mean_[6]"
   ]
  },
  {
   "cell_type": "code",
   "execution_count": null,
   "metadata": {},
   "outputs": [],
   "source": [
    "def forecast(best_params):\n",
    "    my_stopper = EarlyStopping(\n",
    "        monitor=\"val_loss\",\n",
    "        patience=9,\n",
    "        min_delta=0.0001,\n",
    "        mode='min',)\n",
    "    criterion = MeanAbsoluteError()\n",
    "    pl_trainer_kwargs={\"callbacks\": [my_stopper]}\n",
    "    model = TCNModel(\n",
    "        input_chunk_length=best_params[\"input_chunk_length\"],\n",
    "        output_chunk_length=best_params[\"output_chunk_length\"],\n",
    "        n_epochs=n_epochs,\n",
    "        batch_size = BATCH_SIZE,\n",
    "        random_state = random_seed,\n",
    "        optimizer_kwargs = {'lr': learning_rate},\n",
    "        lr_scheduler_kwargs = {\"patience\":4} ,\n",
    "        pl_trainer_kwargs = pl_trainer_kwargs,\n",
    "        lr_scheduler_cls = ReduceLROnPlateau,\n",
    "        torch_metrics = criterion,\n",
    "        kernel_size=best_params[\"kernel_size\"], num_filters=best_params[\"num_filters\"],\n",
    "        num_layers=2, dilation_base=best_params[\"dilation_base\"], weight_norm=False, dropout=best_params[\"dropout\"],)\n",
    "    model.fit(train, val_series = val)    \n",
    "    pred = model.predict(n = 100, series = to_forecast)\n",
    "    pred = (pred['6'].values() * np.sqrt(y_var)) + y_mean\n",
    "    return pred"
   ]
  },
  {
   "cell_type": "code",
   "execution_count": null,
   "metadata": {},
   "outputs": [],
   "source": [
    "best_params = {'input_chunk_length': 512,\n",
    "                'output_chunk_length': 10,\n",
    "                'kernel_size': 2,\n",
    "                'dilation_base': 4,\n",
    "                'num_layers': 4,\n",
    "                'num_filters': 4,\n",
    "                'dropout': 0.5}\n",
    "\n",
    "\n",
    "pred = forecast(best_params)"
   ]
  }
 ],
 "metadata": {
  "kernelspec": {
   "display_name": "Python 3 (ipykernel)",
   "language": "python",
   "name": "python3"
  },
  "language_info": {
   "codemirror_mode": {
    "name": "ipython",
    "version": 3
   },
   "file_extension": ".py",
   "mimetype": "text/x-python",
   "name": "python",
   "nbconvert_exporter": "python",
   "pygments_lexer": "ipython3",
   "version": "3.9.0"
  }
 },
 "nbformat": 4,
 "nbformat_minor": 4
}
