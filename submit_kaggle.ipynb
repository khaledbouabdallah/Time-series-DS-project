{
 "cells": [
  {
   "cell_type": "markdown",
   "metadata": {},
   "source": [
    "## Auto Submit\n",
    "\n",
    "submitting 100 results isn't fun, so lets let the computer do it for us: \n",
    "\n"
   ]
  },
  {
   "cell_type": "code",
   "execution_count": 22,
   "metadata": {},
   "outputs": [],
   "source": [
    "import pandas as pd"
   ]
  },
  {
   "cell_type": "code",
   "execution_count": 23,
   "metadata": {},
   "outputs": [],
   "source": [
    "predictions = pd.read_csv('predictions_all.csv') # this file store predictions of all models\n",
    "predictions = predictions.drop('Unnamed: 0', axis=1) \n",
    "models = pd.read_csv('results_val.csv') # this file store hyperparameters and model names"
   ]
  },
  {
   "cell_type": "code",
   "execution_count": 24,
   "metadata": {},
   "outputs": [],
   "source": [
    "# function to generate metadata text about the prediction (for kaggle submission) \n",
    "def print_model(model):\n",
    "    text = \"\"\n",
    "    text = text + \"Model: XGboost\" + \"\\n\"\n",
    "    text = text + \"Lags: \" + str(model['lags']) + \"\\n\"\n",
    "    text = text + \"n_estimators: \" + str(model['n_estimators']) + \"\\n\"\n",
    "    text = text + \"max_depth: \" + str(model['max_depth']) + \"\\n\"\n",
    "    text = text + \"learning_rate: \" + str(model['learning_rate']) + \"\\n\"\n",
    "    text = text + \"reg_alpha: \" + str(model['reg_alpha']) + \"\\n\"\n",
    "    text = text + \"reg_lambda: \" + str(model['reg_lambda']) + \"\\n\"\n",
    "    return text\n"
   ]
  },
  {
   "cell_type": "code",
   "execution_count": 26,
   "metadata": {},
   "outputs": [
    {
     "name": "stdout",
     "output_type": "stream",
     "text": [
      "submitting model:  0\n",
      "Warning: Looks like you're using an outdated API Version, please consider updating (server 1.6.7 / client 1.6.6)\n",
      "Successfully submitted to Time Series Classification: Part 1\n"
     ]
    },
    {
     "name": "stderr",
     "output_type": "stream",
     "text": [
      "\n",
      "  0%|          | 0.00/2.14k [00:00<?, ?B/s]\n",
      "100%|██████████| 2.14k/2.14k [00:00<00:00, 3.75kB/s]\n"
     ]
    },
    {
     "name": "stdout",
     "output_type": "stream",
     "text": [
      "submitting model:  1\n"
     ]
    },
    {
     "name": "stderr",
     "output_type": "stream",
     "text": [
      "\n",
      "  0%|          | 0.00/2.12k [00:00<?, ?B/s]\n",
      "100%|██████████| 2.12k/2.12k [00:00<00:00, 3.16kB/s]\n"
     ]
    },
    {
     "name": "stdout",
     "output_type": "stream",
     "text": [
      "Warning: Looks like you're using an outdated API Version, please consider updating (server 1.6.7 / client 1.6.6)\n",
      "Successfully submitted to Time Series Classification: Part 1\n",
      "submitting model:  2\n"
     ]
    },
    {
     "name": "stderr",
     "output_type": "stream",
     "text": [
      "\n",
      "  0%|          | 0.00/2.14k [00:00<?, ?B/s]\n",
      "100%|██████████| 2.14k/2.14k [00:00<00:00, 3.42kB/s]\n"
     ]
    },
    {
     "name": "stdout",
     "output_type": "stream",
     "text": [
      "Warning: Looks like you're using an outdated API Version, please consider updating (server 1.6.7 / client 1.6.6)\n",
      "Successfully submitted to Time Series Classification: Part 1\n",
      "submitting model:  3\n"
     ]
    },
    {
     "name": "stderr",
     "output_type": "stream",
     "text": [
      "\n",
      "  0%|          | 0.00/2.14k [00:00<?, ?B/s]\n",
      "100%|██████████| 2.14k/2.14k [00:00<00:00, 3.49kB/s]\n"
     ]
    },
    {
     "name": "stdout",
     "output_type": "stream",
     "text": [
      "Warning: Looks like you're using an outdated API Version, please consider updating (server 1.6.7 / client 1.6.6)\n",
      "Successfully submitted to Time Series Classification: Part 1\n",
      "submitting model:  4\n",
      "Warning: Looks like you're using an outdated API Version, please consider updating (server 1.6.7 / client 1.6.6)\n",
      "Successfully submitted to Time Series Classification: Part 1\n"
     ]
    },
    {
     "name": "stderr",
     "output_type": "stream",
     "text": [
      "\n",
      "  0%|          | 0.00/2.14k [00:00<?, ?B/s]\n",
      "100%|██████████| 2.14k/2.14k [00:00<00:00, 3.28kB/s]\n"
     ]
    },
    {
     "name": "stdout",
     "output_type": "stream",
     "text": [
      "submitting model:  5\n"
     ]
    },
    {
     "name": "stderr",
     "output_type": "stream",
     "text": [
      "\n",
      "  0%|          | 0.00/2.14k [00:00<?, ?B/s]\n",
      "100%|██████████| 2.14k/2.14k [00:00<00:00, 2.87kB/s]\n"
     ]
    },
    {
     "name": "stdout",
     "output_type": "stream",
     "text": [
      "Warning: Looks like you're using an outdated API Version, please consider updating (server 1.6.7 / client 1.6.6)\n",
      "Successfully submitted to Time Series Classification: Part 1\n",
      "submitting model:  6\n"
     ]
    },
    {
     "name": "stderr",
     "output_type": "stream",
     "text": [
      "\n",
      "  0%|          | 0.00/2.14k [00:00<?, ?B/s]\n",
      "100%|██████████| 2.14k/2.14k [00:00<00:00, 2.98kB/s]\n"
     ]
    },
    {
     "name": "stdout",
     "output_type": "stream",
     "text": [
      "Warning: Looks like you're using an outdated API Version, please consider updating (server 1.6.7 / client 1.6.6)\n",
      "Successfully submitted to Time Series Classification: Part 1\n",
      "submitting model:  7\n"
     ]
    },
    {
     "name": "stderr",
     "output_type": "stream",
     "text": [
      "\n",
      "  0%|          | 0.00/2.13k [00:00<?, ?B/s]\n",
      "100%|██████████| 2.13k/2.13k [00:00<00:00, 3.55kB/s]\n"
     ]
    },
    {
     "name": "stdout",
     "output_type": "stream",
     "text": [
      "Warning: Looks like you're using an outdated API Version, please consider updating (server 1.6.7 / client 1.6.6)\n",
      "Successfully submitted to Time Series Classification: Part 1\n",
      "submitting model:  8\n"
     ]
    },
    {
     "name": "stderr",
     "output_type": "stream",
     "text": [
      "\n",
      "  0%|          | 0.00/2.14k [00:00<?, ?B/s]\n",
      "100%|██████████| 2.14k/2.14k [00:00<00:00, 3.97kB/s]\n"
     ]
    },
    {
     "name": "stdout",
     "output_type": "stream",
     "text": [
      "Warning: Looks like you're using an outdated API Version, please consider updating (server 1.6.7 / client 1.6.6)\n",
      "Successfully submitted to Time Series Classification: Part 1\n",
      "submitting model:  9\n"
     ]
    },
    {
     "name": "stderr",
     "output_type": "stream",
     "text": [
      "\n",
      "  0%|          | 0.00/2.13k [00:00<?, ?B/s]\n",
      "100%|██████████| 2.13k/2.13k [00:00<00:00, 3.29kB/s]\n"
     ]
    },
    {
     "name": "stdout",
     "output_type": "stream",
     "text": [
      "Warning: Looks like you're using an outdated API Version, please consider updating (server 1.6.7 / client 1.6.6)\n",
      "Successfully submitted to Time Series Classification: Part 1\n",
      "submitting model:  10\n",
      "Warning: Looks like you're using an outdated API Version, please consider updating (server 1.6.7 / client 1.6.6)\n",
      "Successfully submitted to Time Series Classification: Part 1\n"
     ]
    },
    {
     "name": "stderr",
     "output_type": "stream",
     "text": [
      "\n",
      "  0%|          | 0.00/2.14k [00:00<?, ?B/s]\n",
      "100%|██████████| 2.14k/2.14k [00:00<00:00, 3.44kB/s]\n"
     ]
    },
    {
     "name": "stdout",
     "output_type": "stream",
     "text": [
      "submitting model:  11\n"
     ]
    },
    {
     "name": "stderr",
     "output_type": "stream",
     "text": [
      "\n",
      "  0%|          | 0.00/2.14k [00:00<?, ?B/s]\n",
      "100%|██████████| 2.14k/2.14k [00:00<00:00, 3.54kB/s]\n"
     ]
    },
    {
     "name": "stdout",
     "output_type": "stream",
     "text": [
      "Warning: Looks like you're using an outdated API Version, please consider updating (server 1.6.7 / client 1.6.6)\n",
      "Successfully submitted to Time Series Classification: Part 1\n",
      "submitting model:  12\n",
      "Warning: Looks like you're using an outdated API Version, please consider updating (server 1.6.7 / client 1.6.6)\n",
      "Successfully submitted to Time Series Classification: Part 1\n"
     ]
    },
    {
     "name": "stderr",
     "output_type": "stream",
     "text": [
      "\n",
      "  0%|          | 0.00/2.14k [00:00<?, ?B/s]\n",
      "100%|██████████| 2.14k/2.14k [00:00<00:00, 3.43kB/s]\n"
     ]
    },
    {
     "name": "stdout",
     "output_type": "stream",
     "text": [
      "submitting model:  13\n",
      "Warning: Looks like you're using an outdated API Version, please consider updating (server 1.6.7 / client 1.6.6)\n",
      "Successfully submitted to Time Series Classification: Part 1\n"
     ]
    },
    {
     "name": "stderr",
     "output_type": "stream",
     "text": [
      "\n",
      "  0%|          | 0.00/2.13k [00:00<?, ?B/s]\n",
      "100%|██████████| 2.13k/2.13k [00:00<00:00, 3.37kB/s]\n"
     ]
    },
    {
     "name": "stdout",
     "output_type": "stream",
     "text": [
      "submitting model:  14\n",
      "Warning: Looks like you're using an outdated API Version, please consider updating (server 1.6.7 / client 1.6.6)\n",
      "Successfully submitted to Time Series Classification: Part 1\n"
     ]
    },
    {
     "name": "stderr",
     "output_type": "stream",
     "text": [
      "\n",
      "  0%|          | 0.00/2.15k [00:00<?, ?B/s]\n",
      "100%|██████████| 2.15k/2.15k [00:00<00:00, 4.02kB/s]\n"
     ]
    },
    {
     "name": "stdout",
     "output_type": "stream",
     "text": [
      "submitting model:  15\n"
     ]
    },
    {
     "name": "stderr",
     "output_type": "stream",
     "text": [
      "\n",
      "  0%|          | 0.00/2.14k [00:00<?, ?B/s]\n",
      "100%|██████████| 2.14k/2.14k [00:00<00:00, 19.4kB/s]\n",
      "100%|██████████| 2.14k/2.14k [00:00<00:00, 2.62kB/s]\n"
     ]
    },
    {
     "name": "stdout",
     "output_type": "stream",
     "text": [
      "Warning: Looks like you're using an outdated API Version, please consider updating (server 1.6.7 / client 1.6.6)\n",
      "Successfully submitted to Time Series Classification: Part 1\n",
      "submitting model:  16\n",
      "Warning: Looks like you're using an outdated API Version, please consider updating (server 1.6.7 / client 1.6.6)\n",
      "Successfully submitted to Time Series Classification: Part 1\n"
     ]
    },
    {
     "name": "stderr",
     "output_type": "stream",
     "text": [
      "\n",
      "  0%|          | 0.00/2.13k [00:00<?, ?B/s]\n",
      "100%|██████████| 2.13k/2.13k [00:00<00:00, 3.64kB/s]\n"
     ]
    },
    {
     "name": "stdout",
     "output_type": "stream",
     "text": [
      "submitting model:  17\n",
      "Warning: Looks like you're using an outdated API Version, please consider updating (server 1.6.7 / client 1.6.6)\n",
      "Successfully submitted to Time Series Classification: Part 1\n"
     ]
    },
    {
     "name": "stderr",
     "output_type": "stream",
     "text": [
      "\n",
      "  0%|          | 0.00/2.13k [00:00<?, ?B/s]\n",
      "100%|██████████| 2.13k/2.13k [00:00<00:00, 3.71kB/s]\n"
     ]
    },
    {
     "name": "stdout",
     "output_type": "stream",
     "text": [
      "submitting model:  18\n",
      "Warning: Looks like you're using an outdated API Version, please consider updating (server 1.6.7 / client 1.6.6)\n",
      "Successfully submitted to Time Series Classification: Part 1\n"
     ]
    },
    {
     "name": "stderr",
     "output_type": "stream",
     "text": [
      "\n",
      "  0%|          | 0.00/2.16k [00:00<?, ?B/s]\n",
      "100%|██████████| 2.16k/2.16k [00:00<00:00, 3.60kB/s]\n"
     ]
    },
    {
     "name": "stdout",
     "output_type": "stream",
     "text": [
      "submitting model:  19\n",
      "Warning: Looks like you're using an outdated API Version, please consider updating (server 1.6.7 / client 1.6.6)\n",
      "Successfully submitted to Time Series Classification: Part 1\n"
     ]
    },
    {
     "name": "stderr",
     "output_type": "stream",
     "text": [
      "\n",
      "  0%|          | 0.00/2.16k [00:00<?, ?B/s]\n",
      "100%|██████████| 2.16k/2.16k [00:00<00:00, 3.36kB/s]\n"
     ]
    },
    {
     "name": "stdout",
     "output_type": "stream",
     "text": [
      "submitting model:  20\n",
      "Warning: Looks like you're using an outdated API Version, please consider updating (server 1.6.7 / client 1.6.6)\n",
      "Successfully submitted to Time Series Classification: Part 1\n"
     ]
    },
    {
     "name": "stderr",
     "output_type": "stream",
     "text": [
      "\n",
      "  0%|          | 0.00/2.14k [00:00<?, ?B/s]\n",
      "100%|██████████| 2.14k/2.14k [00:00<00:00, 3.19kB/s]\n"
     ]
    },
    {
     "name": "stdout",
     "output_type": "stream",
     "text": [
      "submitting model:  21\n"
     ]
    },
    {
     "name": "stderr",
     "output_type": "stream",
     "text": [
      "\n",
      "  0%|          | 0.00/2.13k [00:00<?, ?B/s]\n",
      "100%|██████████| 2.13k/2.13k [00:00<00:00, 2.85kB/s]\n"
     ]
    },
    {
     "name": "stdout",
     "output_type": "stream",
     "text": [
      "Warning: Looks like you're using an outdated API Version, please consider updating (server 1.6.7 / client 1.6.6)\n",
      "Successfully submitted to Time Series Classification: Part 1\n",
      "submitting model:  22\n"
     ]
    },
    {
     "name": "stderr",
     "output_type": "stream",
     "text": [
      "\n",
      "  0%|          | 0.00/2.12k [00:00<?, ?B/s]\n",
      "100%|██████████| 2.12k/2.12k [00:00<00:00, 2.84kB/s]\n"
     ]
    },
    {
     "name": "stdout",
     "output_type": "stream",
     "text": [
      "Warning: Looks like you're using an outdated API Version, please consider updating (server 1.6.7 / client 1.6.6)\n",
      "Successfully submitted to Time Series Classification: Part 1\n",
      "submitting model:  23\n",
      "Warning: Looks like you're using an outdated API Version, please consider updating (server 1.6.7 / client 1.6.6)\n",
      "Successfully submitted to Time Series Classification: Part 1\n"
     ]
    },
    {
     "name": "stderr",
     "output_type": "stream",
     "text": [
      "\n",
      "  0%|          | 0.00/2.14k [00:00<?, ?B/s]\n",
      "100%|██████████| 2.14k/2.14k [00:00<00:00, 3.58kB/s]\n"
     ]
    },
    {
     "name": "stdout",
     "output_type": "stream",
     "text": [
      "submitting model:  24\n",
      "Warning: Looks like you're using an outdated API Version, please consider updating (server 1.6.7 / client 1.6.6)\n",
      "Successfully submitted to Time Series Classification: Part 1\n"
     ]
    },
    {
     "name": "stderr",
     "output_type": "stream",
     "text": [
      "\n",
      "  0%|          | 0.00/2.14k [00:00<?, ?B/s]\n",
      "100%|██████████| 2.14k/2.14k [00:00<00:00, 2.96kB/s]\n"
     ]
    },
    {
     "name": "stdout",
     "output_type": "stream",
     "text": [
      "submitting model:  25\n",
      "Warning: Looks like you're using an outdated API Version, please consider updating (server 1.6.7 / client 1.6.6)\n",
      "Successfully submitted to Time Series Classification: Part 1\n"
     ]
    },
    {
     "name": "stderr",
     "output_type": "stream",
     "text": [
      "\n",
      "  0%|          | 0.00/2.14k [00:00<?, ?B/s]\n",
      "100%|██████████| 2.14k/2.14k [00:00<00:00, 20.5kB/s]\n",
      "100%|██████████| 2.14k/2.14k [00:00<00:00, 3.01kB/s]\n"
     ]
    },
    {
     "name": "stdout",
     "output_type": "stream",
     "text": [
      "submitting model:  26\n",
      "Warning: Looks like you're using an outdated API Version, please consider updating (server 1.6.7 / client 1.6.6)\n",
      "Successfully submitted to Time Series Classification: Part 1\n"
     ]
    },
    {
     "name": "stderr",
     "output_type": "stream",
     "text": [
      "\n",
      "  0%|          | 0.00/2.15k [00:00<?, ?B/s]\n",
      "100%|██████████| 2.15k/2.15k [00:00<00:00, 3.30kB/s]\n"
     ]
    },
    {
     "name": "stdout",
     "output_type": "stream",
     "text": [
      "submitting model:  27\n",
      "Warning: Looks like you're using an outdated API Version, please consider updating (server 1.6.7 / client 1.6.6)\n",
      "Successfully submitted to Time Series Classification: Part 1\n"
     ]
    },
    {
     "name": "stderr",
     "output_type": "stream",
     "text": [
      "\n",
      "  0%|          | 0.00/2.14k [00:00<?, ?B/s]\n",
      "100%|██████████| 2.14k/2.14k [00:00<00:00, 2.57kB/s]\n"
     ]
    },
    {
     "name": "stdout",
     "output_type": "stream",
     "text": [
      "submitting model:  28\n"
     ]
    },
    {
     "name": "stderr",
     "output_type": "stream",
     "text": [
      "\n",
      "  0%|          | 0.00/2.13k [00:00<?, ?B/s]\n",
      "100%|██████████| 2.13k/2.13k [00:00<00:00, 3.36kB/s]\n"
     ]
    },
    {
     "name": "stdout",
     "output_type": "stream",
     "text": [
      "Warning: Looks like you're using an outdated API Version, please consider updating (server 1.6.7 / client 1.6.6)\n",
      "Successfully submitted to Time Series Classification: Part 1\n",
      "submitting model:  29\n"
     ]
    },
    {
     "name": "stderr",
     "output_type": "stream",
     "text": [
      "\n",
      "  0%|          | 0.00/2.13k [00:00<?, ?B/s]\n",
      "100%|██████████| 2.13k/2.13k [00:00<00:00, 3.04kB/s]\n"
     ]
    },
    {
     "name": "stdout",
     "output_type": "stream",
     "text": [
      "Warning: Looks like you're using an outdated API Version, please consider updating (server 1.6.7 / client 1.6.6)\n",
      "Successfully submitted to Time Series Classification: Part 1\n",
      "submitting model:  30\n",
      "Warning: Looks like you're using an outdated API Version, please consider updating (server 1.6.7 / client 1.6.6)\n",
      "Successfully submitted to Time Series Classification: Part 1\n"
     ]
    },
    {
     "name": "stderr",
     "output_type": "stream",
     "text": [
      "\n",
      "  0%|          | 0.00/2.15k [00:00<?, ?B/s]\n",
      "100%|██████████| 2.15k/2.15k [00:02<00:00, 855B/s]\n"
     ]
    },
    {
     "name": "stdout",
     "output_type": "stream",
     "text": [
      "submitting model:  31\n"
     ]
    },
    {
     "name": "stderr",
     "output_type": "stream",
     "text": [
      "\n",
      "  0%|          | 0.00/2.16k [00:00<?, ?B/s]\n",
      "100%|██████████| 2.16k/2.16k [00:00<00:00, 2.71kB/s]\n"
     ]
    },
    {
     "name": "stdout",
     "output_type": "stream",
     "text": [
      "Warning: Looks like you're using an outdated API Version, please consider updating (server 1.6.7 / client 1.6.6)\n",
      "Successfully submitted to Time Series Classification: Part 1\n",
      "submitting model:  32\n"
     ]
    },
    {
     "name": "stderr",
     "output_type": "stream",
     "text": [
      "\n",
      "  0%|          | 0.00/2.12k [00:00<?, ?B/s]\n",
      "100%|██████████| 2.12k/2.12k [00:00<00:00, 3.96kB/s]\n"
     ]
    },
    {
     "name": "stdout",
     "output_type": "stream",
     "text": [
      "Warning: Looks like you're using an outdated API Version, please consider updating (server 1.6.7 / client 1.6.6)\n",
      "Successfully submitted to Time Series Classification: Part 1\n",
      "submitting model:  33\n"
     ]
    },
    {
     "name": "stderr",
     "output_type": "stream",
     "text": [
      "\n",
      "  0%|          | 0.00/2.16k [00:00<?, ?B/s]\n",
      "100%|██████████| 2.16k/2.16k [00:00<00:00, 3.77kB/s]\n"
     ]
    },
    {
     "name": "stdout",
     "output_type": "stream",
     "text": [
      "Warning: Looks like you're using an outdated API Version, please consider updating (server 1.6.7 / client 1.6.6)\n",
      "Successfully submitted to Time Series Classification: Part 1\n",
      "submitting model:  34\n"
     ]
    },
    {
     "name": "stderr",
     "output_type": "stream",
     "text": [
      "\n",
      "  0%|          | 0.00/2.14k [00:00<?, ?B/s]\n",
      "100%|██████████| 2.14k/2.14k [00:00<00:00, 4.69kB/s]\n"
     ]
    },
    {
     "name": "stdout",
     "output_type": "stream",
     "text": [
      "Warning: Looks like you're using an outdated API Version, please consider updating (server 1.6.7 / client 1.6.6)\n",
      "Successfully submitted to Time Series Classification: Part 1\n",
      "submitting model:  35\n",
      "Warning: Looks like you're using an outdated API Version, please consider updating (server 1.6.7 / client 1.6.6)\n",
      "Successfully submitted to Time Series Classification: Part 1\n"
     ]
    },
    {
     "name": "stderr",
     "output_type": "stream",
     "text": [
      "\n",
      "  0%|          | 0.00/2.15k [00:00<?, ?B/s]\n",
      "100%|██████████| 2.15k/2.15k [00:00<00:00, 4.00kB/s]\n"
     ]
    },
    {
     "name": "stdout",
     "output_type": "stream",
     "text": [
      "submitting model:  36\n",
      "Warning: Looks like you're using an outdated API Version, please consider updating (server 1.6.7 / client 1.6.6)\n",
      "Successfully submitted to Time Series Classification: Part 1\n"
     ]
    },
    {
     "name": "stderr",
     "output_type": "stream",
     "text": [
      "\n",
      "  0%|          | 0.00/2.18k [00:00<?, ?B/s]\n",
      "100%|██████████| 2.18k/2.18k [00:00<00:00, 3.66kB/s]\n"
     ]
    },
    {
     "name": "stdout",
     "output_type": "stream",
     "text": [
      "submitting model:  37\n",
      "Warning: Looks like you're using an outdated API Version, please consider updating (server 1.6.7 / client 1.6.6)\n",
      "Successfully submitted to Time Series Classification: Part 1\n"
     ]
    },
    {
     "name": "stderr",
     "output_type": "stream",
     "text": [
      "\n",
      "  0%|          | 0.00/2.13k [00:00<?, ?B/s]\n",
      "100%|██████████| 2.13k/2.13k [00:00<00:00, 2.97kB/s]\n"
     ]
    },
    {
     "name": "stdout",
     "output_type": "stream",
     "text": [
      "submitting model:  38\n"
     ]
    },
    {
     "name": "stderr",
     "output_type": "stream",
     "text": [
      "\n",
      "  0%|          | 0.00/2.14k [00:00<?, ?B/s]\n",
      "100%|██████████| 2.14k/2.14k [00:00<00:00, 3.10kB/s]\n"
     ]
    },
    {
     "name": "stdout",
     "output_type": "stream",
     "text": [
      "Warning: Looks like you're using an outdated API Version, please consider updating (server 1.6.7 / client 1.6.6)\n",
      "Successfully submitted to Time Series Classification: Part 1\n",
      "submitting model:  39\n"
     ]
    },
    {
     "name": "stderr",
     "output_type": "stream",
     "text": [
      "\n",
      "  0%|          | 0.00/2.12k [00:00<?, ?B/s]\n",
      "100%|██████████| 2.12k/2.12k [00:00<00:00, 3.68kB/s]\n"
     ]
    },
    {
     "name": "stdout",
     "output_type": "stream",
     "text": [
      "Warning: Looks like you're using an outdated API Version, please consider updating (server 1.6.7 / client 1.6.6)\n",
      "Successfully submitted to Time Series Classification: Part 1\n",
      "submitting model:  40\n"
     ]
    },
    {
     "name": "stderr",
     "output_type": "stream",
     "text": [
      "\n",
      "  0%|          | 0.00/2.14k [00:00<?, ?B/s]\n",
      "100%|██████████| 2.14k/2.14k [00:00<00:00, 3.71kB/s]\n"
     ]
    },
    {
     "name": "stdout",
     "output_type": "stream",
     "text": [
      "Warning: Looks like you're using an outdated API Version, please consider updating (server 1.6.7 / client 1.6.6)\n",
      "Successfully submitted to Time Series Classification: Part 1\n",
      "submitting model:  41\n"
     ]
    },
    {
     "name": "stderr",
     "output_type": "stream",
     "text": [
      "\n",
      "  0%|          | 0.00/2.14k [00:00<?, ?B/s]\n",
      "100%|██████████| 2.14k/2.14k [00:00<00:00, 3.59kB/s]\n"
     ]
    },
    {
     "name": "stdout",
     "output_type": "stream",
     "text": [
      "Warning: Looks like you're using an outdated API Version, please consider updating (server 1.6.7 / client 1.6.6)\n",
      "Successfully submitted to Time Series Classification: Part 1\n",
      "submitting model:  42\n",
      "Warning: Looks like you're using an outdated API Version, please consider updating (server 1.6.7 / client 1.6.6)\n",
      "Successfully submitted to Time Series Classification: Part 1\n"
     ]
    },
    {
     "name": "stderr",
     "output_type": "stream",
     "text": [
      "\n",
      "  0%|          | 0.00/2.14k [00:00<?, ?B/s]\n",
      "100%|██████████| 2.14k/2.14k [00:00<00:00, 4.10kB/s]\n"
     ]
    },
    {
     "name": "stdout",
     "output_type": "stream",
     "text": [
      "submitting model:  43\n"
     ]
    },
    {
     "name": "stderr",
     "output_type": "stream",
     "text": [
      "\n",
      "  0%|          | 0.00/2.14k [00:00<?, ?B/s]\n",
      "100%|██████████| 2.14k/2.14k [00:00<00:00, 3.38kB/s]\n"
     ]
    },
    {
     "name": "stdout",
     "output_type": "stream",
     "text": [
      "Warning: Looks like you're using an outdated API Version, please consider updating (server 1.6.7 / client 1.6.6)\n",
      "Successfully submitted to Time Series Classification: Part 1\n",
      "submitting model:  44\n",
      "Warning: Looks like you're using an outdated API Version, please consider updating (server 1.6.7 / client 1.6.6)\n",
      "Successfully submitted to Time Series Classification: Part 1\n"
     ]
    },
    {
     "name": "stderr",
     "output_type": "stream",
     "text": [
      "\n",
      "  0%|          | 0.00/2.14k [00:00<?, ?B/s]\n",
      "100%|██████████| 2.14k/2.14k [00:00<00:00, 3.78kB/s]\n"
     ]
    },
    {
     "name": "stdout",
     "output_type": "stream",
     "text": [
      "submitting model:  45\n",
      "Warning: Looks like you're using an outdated API Version, please consider updating (server 1.6.7 / client 1.6.6)\n",
      "Successfully submitted to Time Series Classification: Part 1\n"
     ]
    },
    {
     "name": "stderr",
     "output_type": "stream",
     "text": [
      "\n",
      "  0%|          | 0.00/2.14k [00:00<?, ?B/s]\n",
      "100%|██████████| 2.14k/2.14k [00:00<00:00, 3.78kB/s]\n"
     ]
    },
    {
     "name": "stdout",
     "output_type": "stream",
     "text": [
      "submitting model:  46\n"
     ]
    },
    {
     "name": "stderr",
     "output_type": "stream",
     "text": [
      "\n",
      "  0%|          | 0.00/2.16k [00:00<?, ?B/s]\n",
      "100%|██████████| 2.16k/2.16k [00:00<00:00, 3.28kB/s]\n"
     ]
    },
    {
     "name": "stdout",
     "output_type": "stream",
     "text": [
      "Warning: Looks like you're using an outdated API Version, please consider updating (server 1.6.7 / client 1.6.6)\n",
      "Successfully submitted to Time Series Classification: Part 1\n",
      "submitting model:  47\n",
      "Warning: Looks like you're using an outdated API Version, please consider updating (server 1.6.7 / client 1.6.6)\n",
      "Successfully submitted to Time Series Classification: Part 1\n"
     ]
    },
    {
     "name": "stderr",
     "output_type": "stream",
     "text": [
      "\n",
      "  0%|          | 0.00/2.13k [00:00<?, ?B/s]\n",
      "100%|██████████| 2.13k/2.13k [00:00<00:00, 4.43kB/s]\n"
     ]
    },
    {
     "name": "stdout",
     "output_type": "stream",
     "text": [
      "submitting model:  48\n"
     ]
    },
    {
     "name": "stderr",
     "output_type": "stream",
     "text": [
      "\n",
      "  0%|          | 0.00/2.13k [00:00<?, ?B/s]\n",
      "100%|██████████| 2.13k/2.13k [00:00<00:00, 3.72kB/s]\n"
     ]
    },
    {
     "name": "stdout",
     "output_type": "stream",
     "text": [
      "Warning: Looks like you're using an outdated API Version, please consider updating (server 1.6.7 / client 1.6.6)\n",
      "Successfully submitted to Time Series Classification: Part 1\n",
      "submitting model:  49\n",
      "Warning: Looks like you're using an outdated API Version, please consider updating (server 1.6.7 / client 1.6.6)\n",
      "400 - Bad Request - Submission not allowed:  Your team has used its daily Submission allowance (50) today, please try again tomorrow UTC (10 hours from now).\n"
     ]
    },
    {
     "name": "stderr",
     "output_type": "stream",
     "text": [
      "\n",
      "  0%|          | 0.00/2.14k [00:00<?, ?B/s]\n",
      "100%|██████████| 2.14k/2.14k [00:00<00:00, 4.29kB/s]\n"
     ]
    },
    {
     "name": "stdout",
     "output_type": "stream",
     "text": [
      "submitting model:  50\n",
      "Warning: Looks like you're using an outdated API Version, please consider updating (server 1.6.7 / client 1.6.6)\n",
      "400 - Bad Request - Submission not allowed:  Your team has used its daily Submission allowance (50) today, please try again tomorrow UTC (10 hours from now).\n"
     ]
    },
    {
     "name": "stderr",
     "output_type": "stream",
     "text": [
      "\n",
      "  0%|          | 0.00/2.15k [00:00<?, ?B/s]\n",
      "100%|██████████| 2.15k/2.15k [00:00<00:00, 3.41kB/s]\n"
     ]
    },
    {
     "name": "stdout",
     "output_type": "stream",
     "text": [
      "submitting model:  51\n"
     ]
    },
    {
     "name": "stderr",
     "output_type": "stream",
     "text": [
      "\n",
      "  0%|          | 0.00/2.14k [00:00<?, ?B/s]\n",
      "100%|██████████| 2.14k/2.14k [00:00<00:00, 3.79kB/s]\n"
     ]
    },
    {
     "name": "stdout",
     "output_type": "stream",
     "text": [
      "Warning: Looks like you're using an outdated API Version, please consider updating (server 1.6.7 / client 1.6.6)\n",
      "400 - Bad Request - Submission not allowed:  Your team has used its daily Submission allowance (50) today, please try again tomorrow UTC (10 hours from now).\n",
      "submitting model:  52\n"
     ]
    },
    {
     "name": "stderr",
     "output_type": "stream",
     "text": [
      "\n",
      "  0%|          | 0.00/2.15k [00:00<?, ?B/s]\n",
      "100%|██████████| 2.15k/2.15k [00:00<00:00, 3.64kB/s]\n"
     ]
    },
    {
     "name": "stdout",
     "output_type": "stream",
     "text": [
      "Warning: Looks like you're using an outdated API Version, please consider updating (server 1.6.7 / client 1.6.6)\n",
      "400 - Bad Request - Submission not allowed:  Your team has used its daily Submission allowance (50) today, please try again tomorrow UTC (10 hours from now).\n",
      "submitting model:  53\n"
     ]
    },
    {
     "name": "stderr",
     "output_type": "stream",
     "text": [
      "\n",
      "  0%|          | 0.00/2.14k [00:00<?, ?B/s]\n",
      "100%|██████████| 2.14k/2.14k [00:00<00:00, 3.85kB/s]\n"
     ]
    },
    {
     "name": "stdout",
     "output_type": "stream",
     "text": [
      "Warning: Looks like you're using an outdated API Version, please consider updating (server 1.6.7 / client 1.6.6)\n",
      "400 - Bad Request - Submission not allowed:  Your team has used its daily Submission allowance (50) today, please try again tomorrow UTC (10 hours from now).\n",
      "submitting model:  54\n",
      "Warning: Looks like you're using an outdated API Version, please consider updating (server 1.6.7 / client 1.6.6)\n",
      "429 - Too Many Requests - TooManyRequests\n"
     ]
    },
    {
     "name": "stderr",
     "output_type": "stream",
     "text": [
      "\n",
      "  0%|          | 0.00/2.13k [00:00<?, ?B/s]\n",
      "100%|██████████| 2.13k/2.13k [00:00<00:00, 3.38kB/s]\n"
     ]
    },
    {
     "name": "stdout",
     "output_type": "stream",
     "text": [
      "submitting model:  55\n"
     ]
    },
    {
     "name": "stderr",
     "output_type": "stream",
     "text": [
      "\n",
      "  0%|          | 0.00/2.14k [00:00<?, ?B/s]\n",
      "100%|██████████| 2.14k/2.14k [00:00<00:00, 3.39kB/s]\n"
     ]
    },
    {
     "name": "stdout",
     "output_type": "stream",
     "text": [
      "Warning: Looks like you're using an outdated API Version, please consider updating (server 1.6.7 / client 1.6.6)\n",
      "429 - Too Many Requests - TooManyRequests\n",
      "submitting model:  56\n"
     ]
    },
    {
     "name": "stderr",
     "output_type": "stream",
     "text": [
      "\n",
      "  0%|          | 0.00/2.14k [00:00<?, ?B/s]\n",
      "100%|██████████| 2.14k/2.14k [00:00<00:00, 3.58kB/s]\n"
     ]
    },
    {
     "name": "stdout",
     "output_type": "stream",
     "text": [
      "Warning: Looks like you're using an outdated API Version, please consider updating (server 1.6.7 / client 1.6.6)\n",
      "429 - Too Many Requests - TooManyRequests\n",
      "submitting model:  57\n"
     ]
    },
    {
     "name": "stderr",
     "output_type": "stream",
     "text": [
      "\n",
      "  0%|          | 0.00/2.15k [00:00<?, ?B/s]\n",
      "100%|██████████| 2.15k/2.15k [00:00<00:00, 3.78kB/s]\n"
     ]
    },
    {
     "name": "stdout",
     "output_type": "stream",
     "text": [
      "Warning: Looks like you're using an outdated API Version, please consider updating (server 1.6.7 / client 1.6.6)\n",
      "429 - Too Many Requests - TooManyRequests\n",
      "submitting model:  58\n",
      "Warning: Looks like you're using an outdated API Version, please consider updating (server 1.6.7 / client 1.6.6)\n",
      "429 - Too Many Requests - TooManyRequests\n"
     ]
    },
    {
     "name": "stderr",
     "output_type": "stream",
     "text": [
      "\n",
      "  0%|          | 0.00/2.15k [00:00<?, ?B/s]\n",
      "100%|██████████| 2.15k/2.15k [00:00<00:00, 3.09kB/s]\n"
     ]
    },
    {
     "name": "stdout",
     "output_type": "stream",
     "text": [
      "submitting model:  59\n"
     ]
    },
    {
     "name": "stderr",
     "output_type": "stream",
     "text": [
      "\n",
      "  0%|          | 0.00/2.14k [00:00<?, ?B/s]\n",
      "100%|██████████| 2.14k/2.14k [00:00<00:00, 3.97kB/s]\n"
     ]
    },
    {
     "name": "stdout",
     "output_type": "stream",
     "text": [
      "Warning: Looks like you're using an outdated API Version, please consider updating (server 1.6.7 / client 1.6.6)\n",
      "429 - Too Many Requests - TooManyRequests\n",
      "submitting model:  60\n",
      "Warning: Looks like you're using an outdated API Version, please consider updating (server 1.6.7 / client 1.6.6)\n",
      "429 - Too Many Requests - TooManyRequests\n"
     ]
    },
    {
     "name": "stderr",
     "output_type": "stream",
     "text": [
      "\n",
      "  0%|          | 0.00/2.14k [00:00<?, ?B/s]\n",
      "100%|██████████| 2.14k/2.14k [00:00<00:00, 3.97kB/s]\n"
     ]
    },
    {
     "name": "stdout",
     "output_type": "stream",
     "text": [
      "submitting model:  61\n"
     ]
    },
    {
     "name": "stderr",
     "output_type": "stream",
     "text": [
      "\n",
      "  0%|          | 0.00/2.14k [00:00<?, ?B/s]\n",
      "100%|██████████| 2.14k/2.14k [00:00<00:00, 2.83kB/s]\n"
     ]
    },
    {
     "name": "stdout",
     "output_type": "stream",
     "text": [
      "Warning: Looks like you're using an outdated API Version, please consider updating (server 1.6.7 / client 1.6.6)\n",
      "429 - Too Many Requests - TooManyRequests\n",
      "submitting model:  62\n",
      "Warning: Looks like you're using an outdated API Version, please consider updating (server 1.6.7 / client 1.6.6)\n",
      "429 - Too Many Requests - TooManyRequests\n"
     ]
    },
    {
     "name": "stderr",
     "output_type": "stream",
     "text": [
      "\n",
      "  0%|          | 0.00/2.15k [00:00<?, ?B/s]\n",
      "100%|██████████| 2.15k/2.15k [00:00<00:00, 3.51kB/s]\n"
     ]
    },
    {
     "name": "stdout",
     "output_type": "stream",
     "text": [
      "submitting model:  63\n",
      "Warning: Looks like you're using an outdated API Version, please consider updating (server 1.6.7 / client 1.6.6)\n",
      "429 - Too Many Requests - TooManyRequests\n"
     ]
    },
    {
     "name": "stderr",
     "output_type": "stream",
     "text": [
      "\n",
      "  0%|          | 0.00/2.14k [00:00<?, ?B/s]\n",
      "100%|██████████| 2.14k/2.14k [00:00<00:00, 4.32kB/s]\n"
     ]
    },
    {
     "name": "stdout",
     "output_type": "stream",
     "text": [
      "submitting model:  64\n"
     ]
    },
    {
     "name": "stderr",
     "output_type": "stream",
     "text": [
      "\n",
      "  0%|          | 0.00/2.14k [00:00<?, ?B/s]\n",
      "100%|██████████| 2.14k/2.14k [00:00<00:00, 4.37kB/s]\n"
     ]
    },
    {
     "name": "stdout",
     "output_type": "stream",
     "text": [
      "Warning: Looks like you're using an outdated API Version, please consider updating (server 1.6.7 / client 1.6.6)\n",
      "429 - Too Many Requests - TooManyRequests\n",
      "submitting model:  65\n",
      "Warning: Looks like you're using an outdated API Version, please consider updating (server 1.6.7 / client 1.6.6)\n",
      "429 - Too Many Requests - TooManyRequests\n"
     ]
    },
    {
     "name": "stderr",
     "output_type": "stream",
     "text": [
      "\n",
      "  0%|          | 0.00/2.15k [00:00<?, ?B/s]\n",
      "100%|██████████| 2.15k/2.15k [00:00<00:00, 3.63kB/s]\n"
     ]
    },
    {
     "name": "stdout",
     "output_type": "stream",
     "text": [
      "submitting model:  66\n"
     ]
    },
    {
     "name": "stderr",
     "output_type": "stream",
     "text": [
      "\n",
      "  0%|          | 0.00/2.14k [00:00<?, ?B/s]\n",
      "100%|██████████| 2.14k/2.14k [00:00<00:00, 2.97kB/s]\n"
     ]
    },
    {
     "name": "stdout",
     "output_type": "stream",
     "text": [
      "Warning: Looks like you're using an outdated API Version, please consider updating (server 1.6.7 / client 1.6.6)\n",
      "429 - Too Many Requests - TooManyRequests\n",
      "submitting model:  67\n"
     ]
    },
    {
     "name": "stderr",
     "output_type": "stream",
     "text": [
      "\n",
      "  0%|          | 0.00/2.14k [00:00<?, ?B/s]\n",
      "100%|██████████| 2.14k/2.14k [00:00<00:00, 10.1kB/s]\n",
      "100%|██████████| 2.14k/2.14k [00:00<00:00, 3.02kB/s]\n"
     ]
    },
    {
     "name": "stdout",
     "output_type": "stream",
     "text": [
      "Warning: Looks like you're using an outdated API Version, please consider updating (server 1.6.7 / client 1.6.6)\n",
      "429 - Too Many Requests - TooManyRequests\n",
      "submitting model:  68\n"
     ]
    },
    {
     "name": "stderr",
     "output_type": "stream",
     "text": [
      "\n",
      "  0%|          | 0.00/2.15k [00:00<?, ?B/s]\n",
      "100%|██████████| 2.15k/2.15k [00:00<00:00, 7.52kB/s]\n",
      "100%|██████████| 2.15k/2.15k [00:00<00:00, 2.56kB/s]\n"
     ]
    },
    {
     "name": "stdout",
     "output_type": "stream",
     "text": [
      "Warning: Looks like you're using an outdated API Version, please consider updating (server 1.6.7 / client 1.6.6)\n",
      "429 - Too Many Requests - TooManyRequests\n",
      "submitting model:  69\n",
      "Warning: Looks like you're using an outdated API Version, please consider updating (server 1.6.7 / client 1.6.6)\n",
      "429 - Too Many Requests - TooManyRequests\n"
     ]
    },
    {
     "name": "stderr",
     "output_type": "stream",
     "text": [
      "\n",
      "  0%|          | 0.00/2.16k [00:00<?, ?B/s]\n",
      "100%|██████████| 2.16k/2.16k [00:00<00:00, 3.45kB/s]\n"
     ]
    },
    {
     "name": "stdout",
     "output_type": "stream",
     "text": [
      "submitting model:  70\n"
     ]
    },
    {
     "name": "stderr",
     "output_type": "stream",
     "text": [
      "\n",
      "  0%|          | 0.00/2.14k [00:00<?, ?B/s]\n",
      "100%|██████████| 2.14k/2.14k [00:00<00:00, 3.63kB/s]\n"
     ]
    },
    {
     "name": "stdout",
     "output_type": "stream",
     "text": [
      "Warning: Looks like you're using an outdated API Version, please consider updating (server 1.6.7 / client 1.6.6)\n",
      "429 - Too Many Requests - TooManyRequests\n",
      "submitting model:  71\n"
     ]
    },
    {
     "name": "stderr",
     "output_type": "stream",
     "text": [
      "\n",
      "  0%|          | 0.00/2.14k [00:00<?, ?B/s]\n",
      "100%|██████████| 2.14k/2.14k [00:00<00:00, 3.85kB/s]\n"
     ]
    },
    {
     "name": "stdout",
     "output_type": "stream",
     "text": [
      "Warning: Looks like you're using an outdated API Version, please consider updating (server 1.6.7 / client 1.6.6)\n",
      "429 - Too Many Requests - TooManyRequests\n"
     ]
    },
    {
     "ename": "KeyboardInterrupt",
     "evalue": "",
     "output_type": "error",
     "traceback": [
      "\u001b[1;31m---------------------------------------------------------------------------\u001b[0m",
      "\u001b[1;31mKeyboardInterrupt\u001b[0m                         Traceback (most recent call last)",
      "Cell \u001b[1;32mIn[26], line 12\u001b[0m\n\u001b[0;32m     10\u001b[0m text \u001b[38;5;241m=\u001b[39m print_model(models\u001b[38;5;241m.\u001b[39miloc[i])\n\u001b[0;32m     11\u001b[0m get_ipython()\u001b[38;5;241m.\u001b[39msystem(\u001b[38;5;124m'\u001b[39m\u001b[38;5;124mkaggle competitions submit time-series-classification-part-1 -f submission_\u001b[39m\u001b[38;5;132;01m{i}\u001b[39;00m\u001b[38;5;124m.csv -m f\u001b[39m\u001b[38;5;124m\"\u001b[39m\u001b[38;5;132;01m{text}\u001b[39;00m\u001b[38;5;124m\"\u001b[39m\u001b[38;5;124m'\u001b[39m)\n\u001b[1;32m---> 12\u001b[0m \u001b[43mtime\u001b[49m\u001b[38;5;241;43m.\u001b[39;49m\u001b[43msleep\u001b[49m\u001b[43m(\u001b[49m\u001b[38;5;241;43m5\u001b[39;49m\u001b[43m)\u001b[49m\n",
      "\u001b[1;31mKeyboardInterrupt\u001b[0m: "
     ]
    }
   ],
   "source": [
    "import time\n",
    "for i,column in enumerate(predictions.columns):\n",
    "    print(\"submitting model: \", i)\n",
    "    df = pd.DataFrame(predictions[column])\n",
    "    df[\"Id\"] = range(100)\n",
    "    df = df[['Id', column]]\n",
    "    df.rename(columns={column: 'OT'}, inplace=True)\n",
    "    df.to_csv(f'submission_{i}.csv', index=False)\n",
    "    text = print_model(models.iloc[i])\n",
    "    !kaggle competitions submit time-series-classification-part-1 -f submission_{i}.csv -m f\"{text}\"\n",
    "    time.sleep(5) # being gentle with the API\n",
    "        "
   ]
  },
  {
   "cell_type": "markdown",
   "metadata": {},
   "source": [
    "The bad news is that Kaggel does not like us spamming him so we have only submitted 50. The good news is that we have archived a new best mea __0.509!__"
   ]
  },
  {
   "cell_type": "markdown",
   "metadata": {},
   "source": [
    "#### Of course, as stated before. Giving all the missing data that we lack about the transformers. it is pretty hard to have a model that capture and forecast short duration accurratly. I think that the \"best\" model that tries to predict the future in a reasonable is actually the one that scored the best for validation, just like the for the baselines example."
   ]
  },
  {
   "cell_type": "markdown",
   "metadata": {},
   "source": [
    "#### Still, Most people who scores below 1 mea are just overfiting the test set just like us. But we managed to overfit it better :V"
   ]
  },
  {
   "cell_type": "markdown",
   "metadata": {},
   "source": [
    "<iframe src=\"https://giphy.com/embed/uudzUtVcsLAoo\" width=\"480\" height=\"395\" frameBorder=\"0\" class=\"giphy-embed\" allowFullScreen></iframe><p><a href=\"https://giphy.com/gifs/golf-success-tiger-woods-uudzUtVcsLAoo\">via GIPHY</a></p>"
   ]
  }
 ],
 "metadata": {
  "kernelspec": {
   "display_name": ".venv",
   "language": "python",
   "name": "python3"
  },
  "language_info": {
   "codemirror_mode": {
    "name": "ipython",
    "version": 3
   },
   "file_extension": ".py",
   "mimetype": "text/x-python",
   "name": "python",
   "nbconvert_exporter": "python",
   "pygments_lexer": "ipython3",
   "version": "3.9.0"
  }
 },
 "nbformat": 4,
 "nbformat_minor": 2
}
